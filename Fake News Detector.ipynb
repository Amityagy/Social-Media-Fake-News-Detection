{
 "cells": [
  {
   "cell_type": "markdown",
   "id": "35fcae58",
   "metadata": {},
   "source": [
    "## Social Media Fake News Detection"
   ]
  },
  {
   "cell_type": "code",
   "execution_count": 1,
   "id": "f5058178",
   "metadata": {},
   "outputs": [],
   "source": [
    "import numpy as np\n",
    "import pandas as pd"
   ]
  },
  {
   "cell_type": "code",
   "execution_count": 2,
   "id": "46d1a4b1",
   "metadata": {},
   "outputs": [],
   "source": [
    "df_fake = pd.read_csv(\"Fake.csv\")\n",
    "df_true = pd.read_csv(\"True.csv\")"
   ]
  },
  {
   "cell_type": "code",
   "execution_count": 3,
   "id": "6fe94c55",
   "metadata": {},
   "outputs": [],
   "source": [
    "df_fake[\"Label\"]=\"Fake News\"\n",
    "df_true[\"Label\"]=\"Real News\""
   ]
  },
  {
   "cell_type": "code",
   "execution_count": 4,
   "id": "e50a5e74",
   "metadata": {},
   "outputs": [],
   "source": [
    "frames=[df_fake, df_true]\n",
    "df=pd.concat(frames)"
   ]
  },
  {
   "cell_type": "code",
   "execution_count": 5,
   "id": "21179813",
   "metadata": {},
   "outputs": [
    {
     "data": {
      "text/html": [
       "<div>\n",
       "<style scoped>\n",
       "    .dataframe tbody tr th:only-of-type {\n",
       "        vertical-align: middle;\n",
       "    }\n",
       "\n",
       "    .dataframe tbody tr th {\n",
       "        vertical-align: top;\n",
       "    }\n",
       "\n",
       "    .dataframe thead th {\n",
       "        text-align: right;\n",
       "    }\n",
       "</style>\n",
       "<table border=\"1\" class=\"dataframe\">\n",
       "  <thead>\n",
       "    <tr style=\"text-align: right;\">\n",
       "      <th></th>\n",
       "      <th>title</th>\n",
       "      <th>text</th>\n",
       "      <th>subject</th>\n",
       "      <th>date</th>\n",
       "      <th>Label</th>\n",
       "    </tr>\n",
       "  </thead>\n",
       "  <tbody>\n",
       "    <tr>\n",
       "      <th>3481</th>\n",
       "      <td>In Illinois, partisan politics send budget bat...</td>\n",
       "      <td>CHICAGO (Reuters) - Any hope for a break in Il...</td>\n",
       "      <td>politicsNews</td>\n",
       "      <td>May 31, 2017</td>\n",
       "      <td>Real News</td>\n",
       "    </tr>\n",
       "    <tr>\n",
       "      <th>15771</th>\n",
       "      <td>Myanmar sees 'bad consequences' if U.S. impose...</td>\n",
       "      <td>YANGON (Reuters) - Proposed U.S. sanctions tar...</td>\n",
       "      <td>worldnews</td>\n",
       "      <td>November 3, 2017</td>\n",
       "      <td>Real News</td>\n",
       "    </tr>\n",
       "    <tr>\n",
       "      <th>16004</th>\n",
       "      <td>Exclusive: Kenyan Supreme Court judges denied ...</td>\n",
       "      <td>NAIROBI (Reuters) - Kenya s government denied ...</td>\n",
       "      <td>worldnews</td>\n",
       "      <td>October 31, 2017</td>\n",
       "      <td>Real News</td>\n",
       "    </tr>\n",
       "    <tr>\n",
       "      <th>7959</th>\n",
       "      <td>U.S. lawmakers may change September 11 law aft...</td>\n",
       "      <td>WASHINGTON (Reuters) - U.S. lawmakers expresse...</td>\n",
       "      <td>politicsNews</td>\n",
       "      <td>September 29, 2016</td>\n",
       "      <td>Real News</td>\n",
       "    </tr>\n",
       "    <tr>\n",
       "      <th>13496</th>\n",
       "      <td>BREAKING: CLEVELAND POLICE CHIEF Asks Ohio Gov...</td>\n",
       "      <td>Obama s war on America just got real These act...</td>\n",
       "      <td>politics</td>\n",
       "      <td>Jul 17, 2016</td>\n",
       "      <td>Fake News</td>\n",
       "    </tr>\n",
       "  </tbody>\n",
       "</table>\n",
       "</div>"
      ],
      "text/plain": [
       "                                                   title  \\\n",
       "3481   In Illinois, partisan politics send budget bat...   \n",
       "15771  Myanmar sees 'bad consequences' if U.S. impose...   \n",
       "16004  Exclusive: Kenyan Supreme Court judges denied ...   \n",
       "7959   U.S. lawmakers may change September 11 law aft...   \n",
       "13496  BREAKING: CLEVELAND POLICE CHIEF Asks Ohio Gov...   \n",
       "\n",
       "                                                    text       subject  \\\n",
       "3481   CHICAGO (Reuters) - Any hope for a break in Il...  politicsNews   \n",
       "15771  YANGON (Reuters) - Proposed U.S. sanctions tar...     worldnews   \n",
       "16004  NAIROBI (Reuters) - Kenya s government denied ...     worldnews   \n",
       "7959   WASHINGTON (Reuters) - U.S. lawmakers expresse...  politicsNews   \n",
       "13496  Obama s war on America just got real These act...      politics   \n",
       "\n",
       "                      date      Label  \n",
       "3481         May 31, 2017   Real News  \n",
       "15771    November 3, 2017   Real News  \n",
       "16004    October 31, 2017   Real News  \n",
       "7959   September 29, 2016   Real News  \n",
       "13496         Jul 17, 2016  Fake News  "
      ]
     },
     "execution_count": 5,
     "metadata": {},
     "output_type": "execute_result"
    }
   ],
   "source": [
    "df=df.sample(frac=1)\n",
    "df.head()"
   ]
  },
  {
   "cell_type": "code",
   "execution_count": 6,
   "id": "3afe53b1",
   "metadata": {},
   "outputs": [
    {
     "data": {
      "text/plain": [
       "0"
      ]
     },
     "execution_count": 6,
     "metadata": {},
     "output_type": "execute_result"
    }
   ],
   "source": [
    "df[\"title\"].isnull().sum()"
   ]
  },
  {
   "cell_type": "code",
   "execution_count": 7,
   "id": "357b7635",
   "metadata": {},
   "outputs": [],
   "source": [
    "data=df"
   ]
  },
  {
   "cell_type": "code",
   "execution_count": 8,
   "id": "9053fe83",
   "metadata": {},
   "outputs": [],
   "source": [
    "x = np.array(data[\"text\"])\n",
    "y = np.array(data[\"Label\"])\n",
    "#y=pd.get_dummies(y, drop_first=True)\n"
   ]
  },
  {
   "cell_type": "code",
   "execution_count": 9,
   "id": "484849e2",
   "metadata": {},
   "outputs": [],
   "source": [
    "from sklearn.feature_extraction.text import CountVectorizer\n",
    "from sklearn.model_selection import train_test_split"
   ]
  },
  {
   "cell_type": "code",
   "execution_count": 10,
   "id": "08045b0b",
   "metadata": {},
   "outputs": [],
   "source": [
    "cv = CountVectorizer()\n",
    "x = cv.fit_transform(x)"
   ]
  },
  {
   "cell_type": "code",
   "execution_count": 11,
   "id": "d824119e",
   "metadata": {},
   "outputs": [],
   "source": [
    "xtrain, xtest, ytrain, ytest = train_test_split(x, y,test_size=0.25,random_state=42)"
   ]
  },
  {
   "cell_type": "code",
   "execution_count": 12,
   "id": "e6463d59",
   "metadata": {},
   "outputs": [],
   "source": [
    "from sklearn.naive_bayes import MultinomialNB"
   ]
  },
  {
   "cell_type": "code",
   "execution_count": 13,
   "id": "2f4b2c4a",
   "metadata": {},
   "outputs": [
    {
     "name": "stdout",
     "output_type": "stream",
     "text": [
      "0.9535857461024498\n"
     ]
    }
   ],
   "source": [
    "model = MultinomialNB()\n",
    "model.fit(xtrain, ytrain)\n",
    "print(model.score(xtest, ytest))"
   ]
  },
  {
   "cell_type": "code",
   "execution_count": 14,
   "id": "97049953",
   "metadata": {},
   "outputs": [
    {
     "name": "stdout",
     "output_type": "stream",
     "text": [
      "['Real News']\n"
     ]
    }
   ],
   "source": [
    "news_headline = \"Twitter deliberately chose path of non-compliance with new IT rules\"\n",
    "data = cv.transform([news_headline]).toarray()\n",
    "print(model.predict(data))"
   ]
  },
  {
   "cell_type": "code",
   "execution_count": 15,
   "id": "dca08f4e",
   "metadata": {},
   "outputs": [
    {
     "name": "stdout",
     "output_type": "stream",
     "text": [
      "['Fake News']\n"
     ]
    }
   ],
   "source": [
    "news_headline = \"Corona Virus\"\n",
    "data = cv.transform([news_headline]).toarray()\n",
    "print(model.predict(data))"
   ]
  },
  {
   "cell_type": "code",
   "execution_count": 16,
   "id": "e03a87b4",
   "metadata": {},
   "outputs": [],
   "source": [
    "from sklearn.linear_model import LogisticRegression"
   ]
  },
  {
   "cell_type": "code",
   "execution_count": 17,
   "id": "8d39ad5a",
   "metadata": {},
   "outputs": [
    {
     "name": "stdout",
     "output_type": "stream",
     "text": [
      "0.9967037861915368\n"
     ]
    }
   ],
   "source": [
    "LR=LogisticRegression(max_iter=50000)\n",
    "LR.fit(xtrain, ytrain)\n",
    "print(LR.score(xtest, ytest))"
   ]
  },
  {
   "cell_type": "code",
   "execution_count": 18,
   "id": "52294901",
   "metadata": {},
   "outputs": [],
   "source": [
    "from sklearn.svm import LinearSVC"
   ]
  },
  {
   "cell_type": "code",
   "execution_count": 19,
   "id": "24e474cb",
   "metadata": {},
   "outputs": [
    {
     "name": "stdout",
     "output_type": "stream",
     "text": [
      "0.9966146993318485\n"
     ]
    }
   ],
   "source": [
    "SV=LinearSVC(max_iter=50000)\n",
    "SV.fit(xtrain, ytrain)\n",
    "print(SV.score(xtest, ytest))"
   ]
  },
  {
   "cell_type": "code",
   "execution_count": 20,
   "id": "21f5cba4",
   "metadata": {},
   "outputs": [],
   "source": [
    "news_to_varify = \"Manhattan prosecutors say they will continue their investigation into Trump’s business, and people familiar with the matter, who like others spoke on the condition of anonymity to describe private conversations, said they will continue to seek cooperation from Weisselberg, the CFO, and others connected to the case. Goldman and others said they suspected prosecutors would not be able to win cooperation from Weisselberg.\\\n",
    "New York Attorney General Letitia James (D), who helped bring the case, said more could still come out and called the day an important milestone.\\\n",
    "“This investigation will continue, and we will follow the facts and the law wherever they may lead,” she said.\\\n",
    "Prosecutors charged the Trump Organization with a 15-year “scheme to defraud” the government and its chief financial officer with grand larceny and tax fraud in what they said was a wide-ranging effort to hide income from tax authorities.\\\n",
    "None of the charges directly implicate the former president in wrongdoing and would not legally preclude him from running for office again. Many of his allies preemptively cast the charges as a letdown for New York prosecutors, who had spent months seeking Weisselberg’s cooperation and digging into the company’s finances.\\\n",
    " Some former prosecutors who have been heavily critical of Trump said the case was not a blockbuster.\""
   ]
  },
  {
   "cell_type": "code",
   "execution_count": 21,
   "id": "83055464",
   "metadata": {},
   "outputs": [
    {
     "name": "stdout",
     "output_type": "stream",
     "text": [
      "['Real News']\n"
     ]
    }
   ],
   "source": [
    "mkpridt = cv.transform([news_to_varify]).toarray()\n",
    "print(LR.predict(mkpridt))"
   ]
  },
  {
   "cell_type": "code",
   "execution_count": null,
   "id": "c091a3ce",
   "metadata": {},
   "outputs": [],
   "source": []
  }
 ],
 "metadata": {
  "kernelspec": {
   "display_name": "Python 3",
   "language": "python",
   "name": "python3"
  },
  "language_info": {
   "codemirror_mode": {
    "name": "ipython",
    "version": 3
   },
   "file_extension": ".py",
   "mimetype": "text/x-python",
   "name": "python",
   "nbconvert_exporter": "python",
   "pygments_lexer": "ipython3",
   "version": "3.8.8"
  }
 },
 "nbformat": 4,
 "nbformat_minor": 5
}
